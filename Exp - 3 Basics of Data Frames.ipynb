{
 "cells": [
  {
   "cell_type": "code",
   "execution_count": 1,
   "id": "566e6205-0261-4462-8980-d95d82fc85e9",
   "metadata": {},
   "outputs": [],
   "source": [
    "#Exp : 3\n",
    "#Aim : Basics of Data Frames"
   ]
  },
  {
   "cell_type": "code",
   "execution_count": 2,
   "id": "30b9c96c-2ba9-4730-815b-ef87375ebe9f",
   "metadata": {},
   "outputs": [],
   "source": [
    "#Name : Arya Shashikant Deshmukh\n",
    "#Roll no. : 7\n",
    "#Sections : B\n",
    "#Batch : B1"
   ]
  },
  {
   "cell_type": "code",
   "execution_count": 3,
   "id": "b2a6ef5e-253c-4c5c-8af2-5abb74906b3e",
   "metadata": {},
   "outputs": [],
   "source": [
    "import pandas as pd "
   ]
  },
  {
   "cell_type": "code",
   "execution_count": 4,
   "id": "fefdf5f3-f47f-4fa7-bdd1-e9acee8152a6",
   "metadata": {},
   "outputs": [
    {
     "data": {
      "text/plain": [
       "['Arya', 'Swarmai', 'Kaveri', 'Purvaja', 'Asmika']"
      ]
     },
     "execution_count": 4,
     "metadata": {},
     "output_type": "execute_result"
    }
   ],
   "source": [
    "#Creating Student Name list\n",
    "Name = [\"Arya\",\"Swarmai\",\"Kaveri\",\"Purvaja\",\"Asmika\"]\n",
    "Name #display"
   ]
  },
  {
   "cell_type": "code",
   "execution_count": 6,
   "id": "396a991c-6ef7-4853-b730-90b2160d88d8",
   "metadata": {},
   "outputs": [
    {
     "name": "stdout",
     "output_type": "stream",
     "text": [
      "1       Arya\n",
      "2    Swarmai\n",
      "3     Kaveri\n",
      "4    Purvaja\n",
      "5     Asmika\n",
      "dtype: object\n"
     ]
    }
   ],
   "source": [
    "#Creating a series\n",
    "Roll_list=pd.Series(Name,index=[1,2,3,4,5])\n",
    "print(Roll_list)"
   ]
  },
  {
   "cell_type": "code",
   "execution_count": 8,
   "id": "e19f9b98-a3e2-4a47-99d9-0a5967a2a817",
   "metadata": {},
   "outputs": [],
   "source": [
    "#Creating Data Frame"
   ]
  },
  {
   "cell_type": "code",
   "execution_count": 9,
   "id": "4401f0ea-d26e-4e40-a538-c6f076a34b98",
   "metadata": {},
   "outputs": [],
   "source": [
    "import pandas as pd"
   ]
  },
  {
   "cell_type": "code",
   "execution_count": 10,
   "id": "4bf24d65-8699-4d65-b327-ce9451f1ed7a",
   "metadata": {},
   "outputs": [],
   "source": [
    "df=pd.DataFrame([[10,12,14,16],[11,18,15,13],[13,15,16,10]],columns=[\"CD\",\"DBMS\",\"DSS\",\"CAO\"])"
   ]
  },
  {
   "cell_type": "code",
   "execution_count": 11,
   "id": "2e0dbe8b-762c-4952-98de-edc0da7d20b0",
   "metadata": {},
   "outputs": [
    {
     "data": {
      "text/html": [
       "<div>\n",
       "<style scoped>\n",
       "    .dataframe tbody tr th:only-of-type {\n",
       "        vertical-align: middle;\n",
       "    }\n",
       "\n",
       "    .dataframe tbody tr th {\n",
       "        vertical-align: top;\n",
       "    }\n",
       "\n",
       "    .dataframe thead th {\n",
       "        text-align: right;\n",
       "    }\n",
       "</style>\n",
       "<table border=\"1\" class=\"dataframe\">\n",
       "  <thead>\n",
       "    <tr style=\"text-align: right;\">\n",
       "      <th></th>\n",
       "      <th>CD</th>\n",
       "      <th>DBMS</th>\n",
       "      <th>DSS</th>\n",
       "      <th>CAO</th>\n",
       "    </tr>\n",
       "  </thead>\n",
       "  <tbody>\n",
       "    <tr>\n",
       "      <th>0</th>\n",
       "      <td>10</td>\n",
       "      <td>12</td>\n",
       "      <td>14</td>\n",
       "      <td>16</td>\n",
       "    </tr>\n",
       "    <tr>\n",
       "      <th>1</th>\n",
       "      <td>11</td>\n",
       "      <td>18</td>\n",
       "      <td>15</td>\n",
       "      <td>13</td>\n",
       "    </tr>\n",
       "    <tr>\n",
       "      <th>2</th>\n",
       "      <td>13</td>\n",
       "      <td>15</td>\n",
       "      <td>16</td>\n",
       "      <td>10</td>\n",
       "    </tr>\n",
       "  </tbody>\n",
       "</table>\n",
       "</div>"
      ],
      "text/plain": [
       "   CD  DBMS  DSS  CAO\n",
       "0  10    12   14   16\n",
       "1  11    18   15   13\n",
       "2  13    15   16   10"
      ]
     },
     "execution_count": 11,
     "metadata": {},
     "output_type": "execute_result"
    }
   ],
   "source": [
    "df"
   ]
  },
  {
   "cell_type": "code",
   "execution_count": 12,
   "id": "639877c2-5091-4f1e-af9b-850ce2b2ad33",
   "metadata": {},
   "outputs": [
    {
     "data": {
      "text/plain": [
       "(3, 4)"
      ]
     },
     "execution_count": 12,
     "metadata": {},
     "output_type": "execute_result"
    }
   ],
   "source": [
    "df.shape"
   ]
  },
  {
   "cell_type": "code",
   "execution_count": 13,
   "id": "e96eef86-6808-42de-805a-68a54da9e1e4",
   "metadata": {},
   "outputs": [
    {
     "data": {
      "text/plain": [
       "12"
      ]
     },
     "execution_count": 13,
     "metadata": {},
     "output_type": "execute_result"
    }
   ],
   "source": [
    "df.size"
   ]
  },
  {
   "cell_type": "code",
   "execution_count": 14,
   "id": "8b3599ce-22b6-4a7d-9b04-eae23c630818",
   "metadata": {},
   "outputs": [
    {
     "data": {
      "text/plain": [
       "2"
      ]
     },
     "execution_count": 14,
     "metadata": {},
     "output_type": "execute_result"
    }
   ],
   "source": [
    "df.ndim"
   ]
  },
  {
   "cell_type": "code",
   "execution_count": 15,
   "id": "a8ab2c3d-ab1b-4dfc-8eb6-e722e215e2f1",
   "metadata": {},
   "outputs": [],
   "source": [
    "#Adding Record (Row) to the Data Frame"
   ]
  },
  {
   "cell_type": "code",
   "execution_count": 19,
   "id": "50747101-4642-48a6-9f94-4de5893291e4",
   "metadata": {},
   "outputs": [],
   "source": [
    "df2=pd.DataFrame([[10,16,20,18]],columns=[\"CD\",\"DBMS\",\"DSS\",\"CAO\"])"
   ]
  },
  {
   "cell_type": "code",
   "execution_count": 23,
   "id": "fca9d593-90b6-4bdd-92f4-df5c1e595176",
   "metadata": {},
   "outputs": [],
   "source": [
    "df3 = pd.concat([df, df2], ignore_index=True)"
   ]
  },
  {
   "cell_type": "code",
   "execution_count": 24,
   "id": "4928953b-9c7e-4cb2-82c8-16b6563dc890",
   "metadata": {},
   "outputs": [
    {
     "data": {
      "text/html": [
       "<div>\n",
       "<style scoped>\n",
       "    .dataframe tbody tr th:only-of-type {\n",
       "        vertical-align: middle;\n",
       "    }\n",
       "\n",
       "    .dataframe tbody tr th {\n",
       "        vertical-align: top;\n",
       "    }\n",
       "\n",
       "    .dataframe thead th {\n",
       "        text-align: right;\n",
       "    }\n",
       "</style>\n",
       "<table border=\"1\" class=\"dataframe\">\n",
       "  <thead>\n",
       "    <tr style=\"text-align: right;\">\n",
       "      <th></th>\n",
       "      <th>CD</th>\n",
       "      <th>DBMS</th>\n",
       "      <th>DSS</th>\n",
       "      <th>CAO</th>\n",
       "    </tr>\n",
       "  </thead>\n",
       "  <tbody>\n",
       "    <tr>\n",
       "      <th>0</th>\n",
       "      <td>10</td>\n",
       "      <td>12</td>\n",
       "      <td>14</td>\n",
       "      <td>16</td>\n",
       "    </tr>\n",
       "    <tr>\n",
       "      <th>1</th>\n",
       "      <td>11</td>\n",
       "      <td>18</td>\n",
       "      <td>15</td>\n",
       "      <td>13</td>\n",
       "    </tr>\n",
       "    <tr>\n",
       "      <th>2</th>\n",
       "      <td>13</td>\n",
       "      <td>15</td>\n",
       "      <td>16</td>\n",
       "      <td>10</td>\n",
       "    </tr>\n",
       "    <tr>\n",
       "      <th>3</th>\n",
       "      <td>10</td>\n",
       "      <td>16</td>\n",
       "      <td>20</td>\n",
       "      <td>18</td>\n",
       "    </tr>\n",
       "  </tbody>\n",
       "</table>\n",
       "</div>"
      ],
      "text/plain": [
       "   CD  DBMS  DSS  CAO\n",
       "0  10    12   14   16\n",
       "1  11    18   15   13\n",
       "2  13    15   16   10\n",
       "3  10    16   20   18"
      ]
     },
     "execution_count": 24,
     "metadata": {},
     "output_type": "execute_result"
    }
   ],
   "source": [
    "df3"
   ]
  },
  {
   "cell_type": "code",
   "execution_count": 25,
   "id": "8a77f848-7668-400a-9fbc-dd072b2dafac",
   "metadata": {},
   "outputs": [
    {
     "data": {
      "text/plain": [
       "16"
      ]
     },
     "execution_count": 25,
     "metadata": {},
     "output_type": "execute_result"
    }
   ],
   "source": [
    "df3.size"
   ]
  },
  {
   "cell_type": "code",
   "execution_count": 28,
   "id": "18a03573-0244-4124-9197-44103dd53d49",
   "metadata": {},
   "outputs": [
    {
     "data": {
      "text/plain": [
       "(4, 4)"
      ]
     },
     "execution_count": 28,
     "metadata": {},
     "output_type": "execute_result"
    }
   ],
   "source": [
    "df3.shape"
   ]
  },
  {
   "cell_type": "code",
   "execution_count": 29,
   "id": "35539ca8-e2b7-4dc0-8440-0be6f96e68ea",
   "metadata": {},
   "outputs": [
    {
     "data": {
      "text/plain": [
       "2"
      ]
     },
     "execution_count": 29,
     "metadata": {},
     "output_type": "execute_result"
    }
   ],
   "source": [
    "df3.ndim"
   ]
  },
  {
   "cell_type": "code",
   "execution_count": 30,
   "id": "7606c540-7469-4708-bdb2-fcc011a03589",
   "metadata": {},
   "outputs": [],
   "source": [
    "df3[\"DM\"] = [12,24,20,18]"
   ]
  },
  {
   "cell_type": "code",
   "execution_count": 31,
   "id": "de1081da-6ba4-4aa8-a53d-82c3e36c93cf",
   "metadata": {},
   "outputs": [
    {
     "data": {
      "text/html": [
       "<div>\n",
       "<style scoped>\n",
       "    .dataframe tbody tr th:only-of-type {\n",
       "        vertical-align: middle;\n",
       "    }\n",
       "\n",
       "    .dataframe tbody tr th {\n",
       "        vertical-align: top;\n",
       "    }\n",
       "\n",
       "    .dataframe thead th {\n",
       "        text-align: right;\n",
       "    }\n",
       "</style>\n",
       "<table border=\"1\" class=\"dataframe\">\n",
       "  <thead>\n",
       "    <tr style=\"text-align: right;\">\n",
       "      <th></th>\n",
       "      <th>CD</th>\n",
       "      <th>DBMS</th>\n",
       "      <th>DSS</th>\n",
       "      <th>CAO</th>\n",
       "      <th>DM</th>\n",
       "    </tr>\n",
       "  </thead>\n",
       "  <tbody>\n",
       "    <tr>\n",
       "      <th>0</th>\n",
       "      <td>10</td>\n",
       "      <td>12</td>\n",
       "      <td>14</td>\n",
       "      <td>16</td>\n",
       "      <td>12</td>\n",
       "    </tr>\n",
       "    <tr>\n",
       "      <th>1</th>\n",
       "      <td>11</td>\n",
       "      <td>18</td>\n",
       "      <td>15</td>\n",
       "      <td>13</td>\n",
       "      <td>24</td>\n",
       "    </tr>\n",
       "    <tr>\n",
       "      <th>2</th>\n",
       "      <td>13</td>\n",
       "      <td>15</td>\n",
       "      <td>16</td>\n",
       "      <td>10</td>\n",
       "      <td>20</td>\n",
       "    </tr>\n",
       "    <tr>\n",
       "      <th>3</th>\n",
       "      <td>10</td>\n",
       "      <td>16</td>\n",
       "      <td>20</td>\n",
       "      <td>18</td>\n",
       "      <td>18</td>\n",
       "    </tr>\n",
       "  </tbody>\n",
       "</table>\n",
       "</div>"
      ],
      "text/plain": [
       "   CD  DBMS  DSS  CAO  DM\n",
       "0  10    12   14   16  12\n",
       "1  11    18   15   13  24\n",
       "2  13    15   16   10  20\n",
       "3  10    16   20   18  18"
      ]
     },
     "execution_count": 31,
     "metadata": {},
     "output_type": "execute_result"
    }
   ],
   "source": [
    "df3"
   ]
  },
  {
   "cell_type": "code",
   "execution_count": 32,
   "id": "c860bd8d-8c19-4456-83fc-5380e75912b4",
   "metadata": {},
   "outputs": [],
   "source": [
    "#Delete a record = 1\n",
    "df4=df3.drop(index=[1])"
   ]
  },
  {
   "cell_type": "code",
   "execution_count": 33,
   "id": "2442f0ec-c5b0-42c3-af4f-9f1a2bec4425",
   "metadata": {},
   "outputs": [
    {
     "data": {
      "text/html": [
       "<div>\n",
       "<style scoped>\n",
       "    .dataframe tbody tr th:only-of-type {\n",
       "        vertical-align: middle;\n",
       "    }\n",
       "\n",
       "    .dataframe tbody tr th {\n",
       "        vertical-align: top;\n",
       "    }\n",
       "\n",
       "    .dataframe thead th {\n",
       "        text-align: right;\n",
       "    }\n",
       "</style>\n",
       "<table border=\"1\" class=\"dataframe\">\n",
       "  <thead>\n",
       "    <tr style=\"text-align: right;\">\n",
       "      <th></th>\n",
       "      <th>CD</th>\n",
       "      <th>DBMS</th>\n",
       "      <th>DSS</th>\n",
       "      <th>CAO</th>\n",
       "      <th>DM</th>\n",
       "    </tr>\n",
       "  </thead>\n",
       "  <tbody>\n",
       "    <tr>\n",
       "      <th>0</th>\n",
       "      <td>10</td>\n",
       "      <td>12</td>\n",
       "      <td>14</td>\n",
       "      <td>16</td>\n",
       "      <td>12</td>\n",
       "    </tr>\n",
       "    <tr>\n",
       "      <th>2</th>\n",
       "      <td>13</td>\n",
       "      <td>15</td>\n",
       "      <td>16</td>\n",
       "      <td>10</td>\n",
       "      <td>20</td>\n",
       "    </tr>\n",
       "    <tr>\n",
       "      <th>3</th>\n",
       "      <td>10</td>\n",
       "      <td>16</td>\n",
       "      <td>20</td>\n",
       "      <td>18</td>\n",
       "      <td>18</td>\n",
       "    </tr>\n",
       "  </tbody>\n",
       "</table>\n",
       "</div>"
      ],
      "text/plain": [
       "   CD  DBMS  DSS  CAO  DM\n",
       "0  10    12   14   16  12\n",
       "2  13    15   16   10  20\n",
       "3  10    16   20   18  18"
      ]
     },
     "execution_count": 33,
     "metadata": {},
     "output_type": "execute_result"
    }
   ],
   "source": [
    "df4"
   ]
  },
  {
   "cell_type": "code",
   "execution_count": 34,
   "id": "bebd1c36-7bcc-4f91-b96e-c0c9383035cc",
   "metadata": {},
   "outputs": [],
   "source": [
    "#Deleting Attribute (Columns) from df3 dataframe"
   ]
  },
  {
   "cell_type": "code",
   "execution_count": 35,
   "id": "9cedb4ca-a6b7-4313-912d-aee7e224ef8f",
   "metadata": {},
   "outputs": [],
   "source": [
    "df5 = df3.drop(columns=[\"DM\"])"
   ]
  },
  {
   "cell_type": "code",
   "execution_count": 36,
   "id": "1995c30e-d13d-43b7-9e7e-495eb596ff5e",
   "metadata": {},
   "outputs": [
    {
     "data": {
      "text/html": [
       "<div>\n",
       "<style scoped>\n",
       "    .dataframe tbody tr th:only-of-type {\n",
       "        vertical-align: middle;\n",
       "    }\n",
       "\n",
       "    .dataframe tbody tr th {\n",
       "        vertical-align: top;\n",
       "    }\n",
       "\n",
       "    .dataframe thead th {\n",
       "        text-align: right;\n",
       "    }\n",
       "</style>\n",
       "<table border=\"1\" class=\"dataframe\">\n",
       "  <thead>\n",
       "    <tr style=\"text-align: right;\">\n",
       "      <th></th>\n",
       "      <th>CD</th>\n",
       "      <th>DBMS</th>\n",
       "      <th>DSS</th>\n",
       "      <th>CAO</th>\n",
       "    </tr>\n",
       "  </thead>\n",
       "  <tbody>\n",
       "    <tr>\n",
       "      <th>0</th>\n",
       "      <td>10</td>\n",
       "      <td>12</td>\n",
       "      <td>14</td>\n",
       "      <td>16</td>\n",
       "    </tr>\n",
       "    <tr>\n",
       "      <th>1</th>\n",
       "      <td>11</td>\n",
       "      <td>18</td>\n",
       "      <td>15</td>\n",
       "      <td>13</td>\n",
       "    </tr>\n",
       "    <tr>\n",
       "      <th>2</th>\n",
       "      <td>13</td>\n",
       "      <td>15</td>\n",
       "      <td>16</td>\n",
       "      <td>10</td>\n",
       "    </tr>\n",
       "    <tr>\n",
       "      <th>3</th>\n",
       "      <td>10</td>\n",
       "      <td>16</td>\n",
       "      <td>20</td>\n",
       "      <td>18</td>\n",
       "    </tr>\n",
       "  </tbody>\n",
       "</table>\n",
       "</div>"
      ],
      "text/plain": [
       "   CD  DBMS  DSS  CAO\n",
       "0  10    12   14   16\n",
       "1  11    18   15   13\n",
       "2  13    15   16   10\n",
       "3  10    16   20   18"
      ]
     },
     "execution_count": 36,
     "metadata": {},
     "output_type": "execute_result"
    }
   ],
   "source": [
    "df5"
   ]
  },
  {
   "cell_type": "code",
   "execution_count": 37,
   "id": "8821d038-0a9c-4a7b-a511-c89b98d6cb29",
   "metadata": {},
   "outputs": [
    {
     "name": "stdout",
     "output_type": "stream",
     "text": [
      "Mean of DSS : 16.25\n"
     ]
    }
   ],
   "source": [
    "#Finding a Mean of DSS\n",
    "print(\"Mean of DSS :\",df5[\"DSS\"].mean())"
   ]
  },
  {
   "cell_type": "code",
   "execution_count": 40,
   "id": "dfa88a9f-40f7-42a7-9281-cd8047244747",
   "metadata": {},
   "outputs": [
    {
     "name": "stdout",
     "output_type": "stream",
     "text": [
      "Median of DSS : 15.5\n"
     ]
    }
   ],
   "source": [
    "#Finding a Median of DSS\n",
    "print(\"Median of DSS :\",df5[\"DSS\"].median())"
   ]
  },
  {
   "cell_type": "code",
   "execution_count": 43,
   "id": "f5e9c8fd-9c13-4daa-a078-50fb000ae10f",
   "metadata": {},
   "outputs": [
    {
     "name": "stdout",
     "output_type": "stream",
     "text": [
      "Mode of DSS : 0    14\n",
      "1    15\n",
      "2    16\n",
      "3    20\n",
      "Name: DSS, dtype: int64\n"
     ]
    }
   ],
   "source": [
    "#Finding a Mode of DSS\n",
    "print(\"Mode of DSS :\",df5[\"DSS\"].mode())"
   ]
  },
  {
   "cell_type": "code",
   "execution_count": null,
   "id": "25a17e45-af29-4480-9f66-394609d32926",
   "metadata": {},
   "outputs": [],
   "source": []
  }
 ],
 "metadata": {
  "kernelspec": {
   "display_name": "Python [conda env:base] *",
   "language": "python",
   "name": "conda-base-py"
  },
  "language_info": {
   "codemirror_mode": {
    "name": "ipython",
    "version": 3
   },
   "file_extension": ".py",
   "mimetype": "text/x-python",
   "name": "python",
   "nbconvert_exporter": "python",
   "pygments_lexer": "ipython3",
   "version": "3.13.5"
  }
 },
 "nbformat": 4,
 "nbformat_minor": 5
}

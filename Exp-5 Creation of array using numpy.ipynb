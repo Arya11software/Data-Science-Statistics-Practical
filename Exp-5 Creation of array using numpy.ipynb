{
 "cells": [
  {
   "cell_type": "code",
   "execution_count": 2,
   "id": "b56bcab9-65d1-43f1-9d2c-0b84bfb53ded",
   "metadata": {},
   "outputs": [],
   "source": [
    "#Exp : 5\n",
    "#Aim : Creation of array using numpy"
   ]
  },
  {
   "cell_type": "code",
   "execution_count": 3,
   "id": "d949e38d-2493-44c7-b475-a0f38cbe17d1",
   "metadata": {},
   "outputs": [],
   "source": [
    "#Name : Arya Shashikant Deshmukh\n",
    "#Roll no. : 7\n",
    "#Section : B\n",
    "#Batch : B1"
   ]
  },
  {
   "cell_type": "code",
   "execution_count": 4,
   "id": "9f11d873-36f8-4a0d-b783-43ab91ed1a83",
   "metadata": {},
   "outputs": [],
   "source": [
    "import numpy as np"
   ]
  },
  {
   "cell_type": "code",
   "execution_count": 5,
   "id": "c68d9e5c-3121-482f-b0f0-abdf74d97175",
   "metadata": {},
   "outputs": [],
   "source": [
    "#Creation of 1D array"
   ]
  },
  {
   "cell_type": "code",
   "execution_count": 6,
   "id": "183c9399-341b-46e7-bdcd-1eca0aacc8e0",
   "metadata": {},
   "outputs": [],
   "source": [
    "arr1 = np.array([1,2,3,4,5])"
   ]
  },
  {
   "cell_type": "code",
   "execution_count": 7,
   "id": "67757531-878a-4b03-b9fd-6b9a3a596a3a",
   "metadata": {},
   "outputs": [
    {
     "name": "stdout",
     "output_type": "stream",
     "text": [
      "[1 2 3 4 5]\n"
     ]
    }
   ],
   "source": [
    "print(arr1)"
   ]
  },
  {
   "cell_type": "code",
   "execution_count": 8,
   "id": "1715862d-168e-442a-a224-fe271a791e49",
   "metadata": {},
   "outputs": [],
   "source": [
    "#Creation of 2D array"
   ]
  },
  {
   "cell_type": "code",
   "execution_count": 9,
   "id": "932180ad-ba41-43d4-8a1b-a38325531a51",
   "metadata": {},
   "outputs": [],
   "source": [
    "arr2 = np.array([[1,2,3],[4,5,6]])"
   ]
  },
  {
   "cell_type": "code",
   "execution_count": 10,
   "id": "c7b78051-da09-4575-8ac9-504e219cd55b",
   "metadata": {},
   "outputs": [
    {
     "name": "stdout",
     "output_type": "stream",
     "text": [
      "[[1 2 3]\n",
      " [4 5 6]]\n"
     ]
    }
   ],
   "source": [
    "print(arr2)"
   ]
  },
  {
   "cell_type": "code",
   "execution_count": null,
   "id": "1de3e357-888f-4f8d-8da1-4d0f791e4558",
   "metadata": {},
   "outputs": [],
   "source": []
  }
 ],
 "metadata": {
  "kernelspec": {
   "display_name": "Python [conda env:base] *",
   "language": "python",
   "name": "conda-base-py"
  },
  "language_info": {
   "codemirror_mode": {
    "name": "ipython",
    "version": 3
   },
   "file_extension": ".py",
   "mimetype": "text/x-python",
   "name": "python",
   "nbconvert_exporter": "python",
   "pygments_lexer": "ipython3",
   "version": "3.13.5"
  }
 },
 "nbformat": 4,
 "nbformat_minor": 5
}

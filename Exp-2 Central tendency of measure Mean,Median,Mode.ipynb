{
 "cells": [
  {
   "cell_type": "code",
   "execution_count": 1,
   "id": "342905a4-bc73-4983-8f03-0556bbf94a21",
   "metadata": {},
   "outputs": [],
   "source": [
    "#Exp : 2\n",
    "#Aim : Central Tendency of Measure Mean , Median , Mode"
   ]
  },
  {
   "cell_type": "code",
   "execution_count": 2,
   "id": "cfff20c8-39d0-4940-be91-2ba3d84f81c7",
   "metadata": {},
   "outputs": [],
   "source": [
    "#Name : Arya Shashikant Deshmukh\n",
    "#Roll no. : 7\n",
    "#Section : B\n",
    "#Batch : B1"
   ]
  },
  {
   "cell_type": "code",
   "execution_count": 5,
   "id": "d276fe7e-830a-4659-a95f-5c2e9134fd74",
   "metadata": {},
   "outputs": [],
   "source": [
    "age = [22,21,20,21,21,20,22,22,22,22,21,20,21,21,21,20,20,20]"
   ]
  },
  {
   "cell_type": "code",
   "execution_count": 6,
   "id": "c946188d-c880-4178-a29d-f45ac2c72b53",
   "metadata": {},
   "outputs": [
    {
     "data": {
      "text/plain": [
       "[22, 21, 20, 21, 21, 20, 22, 22, 22, 22, 21, 20, 21, 21, 21, 20, 20, 20]"
      ]
     },
     "execution_count": 6,
     "metadata": {},
     "output_type": "execute_result"
    }
   ],
   "source": [
    "age"
   ]
  },
  {
   "cell_type": "code",
   "execution_count": 7,
   "id": "880c9862-4c42-432c-b8e0-2399c100e8f7",
   "metadata": {},
   "outputs": [],
   "source": [
    "#library for statistics\n",
    "import statistics"
   ]
  },
  {
   "cell_type": "code",
   "execution_count": 8,
   "id": "ac352e89-905c-40d1-99a8-1a1d289fb0d2",
   "metadata": {},
   "outputs": [],
   "source": [
    "a = statistics.mean(age)"
   ]
  },
  {
   "cell_type": "code",
   "execution_count": 9,
   "id": "c0912202-fab3-48d6-a08a-55a65247bc84",
   "metadata": {},
   "outputs": [
    {
     "data": {
      "text/plain": [
       "20.944444444444443"
      ]
     },
     "execution_count": 9,
     "metadata": {},
     "output_type": "execute_result"
    }
   ],
   "source": [
    "a"
   ]
  },
  {
   "cell_type": "code",
   "execution_count": 10,
   "id": "72f0a05f-35c5-45c1-91a3-59ce0bdb2004",
   "metadata": {},
   "outputs": [
    {
     "name": "stdout",
     "output_type": "stream",
     "text": [
      "20.944444444444443\n"
     ]
    }
   ],
   "source": [
    "print(a)"
   ]
  },
  {
   "cell_type": "code",
   "execution_count": 11,
   "id": "f1baf096-68bf-4a63-8ea9-001b71080cbe",
   "metadata": {},
   "outputs": [],
   "source": [
    "b = statistics.median(age)"
   ]
  },
  {
   "cell_type": "code",
   "execution_count": 12,
   "id": "e8b1524b-3857-4d7b-9aec-c8d109669016",
   "metadata": {},
   "outputs": [
    {
     "data": {
      "text/plain": [
       "21.0"
      ]
     },
     "execution_count": 12,
     "metadata": {},
     "output_type": "execute_result"
    }
   ],
   "source": [
    "b"
   ]
  },
  {
   "cell_type": "code",
   "execution_count": 13,
   "id": "39512434-f920-4910-abb3-aa6639ef5965",
   "metadata": {},
   "outputs": [],
   "source": [
    "c = statistics.mode(age)"
   ]
  },
  {
   "cell_type": "code",
   "execution_count": 14,
   "id": "09852861-7e2e-4a20-89b2-eec450b4a5a0",
   "metadata": {},
   "outputs": [
    {
     "data": {
      "text/plain": [
       "21"
      ]
     },
     "execution_count": 14,
     "metadata": {},
     "output_type": "execute_result"
    }
   ],
   "source": [
    "c"
   ]
  },
  {
   "cell_type": "code",
   "execution_count": 15,
   "id": "2be26011-548b-4d9c-ba7c-0f014d32da8a",
   "metadata": {},
   "outputs": [],
   "source": [
    "import numpy as np\n",
    "x = np.array([1,2,1,2,3,5,4,7,1,2,4,2,4,1,5,2,6,1,3])"
   ]
  },
  {
   "cell_type": "code",
   "execution_count": 16,
   "id": "c409e1c8-50fb-42db-901b-e20897633ce2",
   "metadata": {},
   "outputs": [
    {
     "data": {
      "text/plain": [
       "array([1, 2, 1, 2, 3, 5, 4, 7, 1, 2, 4, 2, 4, 1, 5, 2, 6, 1, 3])"
      ]
     },
     "execution_count": 16,
     "metadata": {},
     "output_type": "execute_result"
    }
   ],
   "source": [
    "x"
   ]
  },
  {
   "cell_type": "code",
   "execution_count": 17,
   "id": "1479fc18-271b-456e-801c-acea484dd55d",
   "metadata": {},
   "outputs": [
    {
     "name": "stdout",
     "output_type": "stream",
     "text": [
      "2.9473684210526314\n"
     ]
    }
   ],
   "source": [
    "print(np.mean(x))"
   ]
  },
  {
   "cell_type": "code",
   "execution_count": 18,
   "id": "ead807ad-b9ca-485d-9a82-918053f06a5f",
   "metadata": {},
   "outputs": [
    {
     "name": "stdout",
     "output_type": "stream",
     "text": [
      "2.0\n"
     ]
    }
   ],
   "source": [
    "print(np.median(x))"
   ]
  },
  {
   "cell_type": "code",
   "execution_count": 19,
   "id": "c8a1980c-7c3b-41cb-b6b3-debde1694bdb",
   "metadata": {},
   "outputs": [],
   "source": [
    "from scipy import stats"
   ]
  },
  {
   "cell_type": "code",
   "execution_count": 20,
   "id": "9c9d1a32-2647-44ac-ae3b-6ee013e03c60",
   "metadata": {},
   "outputs": [
    {
     "name": "stdout",
     "output_type": "stream",
     "text": [
      "ModeResult(mode=np.int64(1), count=np.int64(5))\n"
     ]
    }
   ],
   "source": [
    "print(stats.mode(x))"
   ]
  },
  {
   "cell_type": "code",
   "execution_count": 21,
   "id": "23efe27d-f34f-4fc5-8b26-005dc3fa2d7e",
   "metadata": {},
   "outputs": [
    {
     "name": "stdout",
     "output_type": "stream",
     "text": [
      "1.7910210028603741\n"
     ]
    }
   ],
   "source": [
    "print(np.std(x))"
   ]
  },
  {
   "cell_type": "code",
   "execution_count": 22,
   "id": "0fd1f940-5cb4-42ad-9b8a-1795fc6486e1",
   "metadata": {},
   "outputs": [],
   "source": [
    "std_dev=stats.tstd(x)"
   ]
  },
  {
   "cell_type": "code",
   "execution_count": 23,
   "id": "5d49a528-9b8a-46ac-a5a9-bd64c1cab2e9",
   "metadata": {},
   "outputs": [
    {
     "name": "stdout",
     "output_type": "stream",
     "text": [
      "Standard deviation :  1.840099158274005\n"
     ]
    }
   ],
   "source": [
    "print(\"Standard deviation : \",std_dev)"
   ]
  },
  {
   "cell_type": "code",
   "execution_count": 24,
   "id": "d7d8e0dd-6f1e-462d-9b2b-d2d70ba71a5d",
   "metadata": {},
   "outputs": [
    {
     "name": "stdout",
     "output_type": "stream",
     "text": [
      "variance :  3.385964912280701\n"
     ]
    }
   ],
   "source": [
    "print(\"variance : \",stats.tvar(x))"
   ]
  },
  {
   "cell_type": "code",
   "execution_count": 25,
   "id": "d7b94063-ba9d-4647-ba69-302e1c650658",
   "metadata": {},
   "outputs": [
    {
     "name": "stdout",
     "output_type": "stream",
     "text": [
      "Range :  6.0\n"
     ]
    }
   ],
   "source": [
    "print(\"Range : \",stats.iqr(x,rng=(0,100)))"
   ]
  },
  {
   "cell_type": "code",
   "execution_count": null,
   "id": "e349e2ad-5b5b-4d89-b16a-4e3760784961",
   "metadata": {},
   "outputs": [],
   "source": []
  }
 ],
 "metadata": {
  "kernelspec": {
   "display_name": "Python [conda env:base] *",
   "language": "python",
   "name": "conda-base-py"
  },
  "language_info": {
   "codemirror_mode": {
    "name": "ipython",
    "version": 3
   },
   "file_extension": ".py",
   "mimetype": "text/x-python",
   "name": "python",
   "nbconvert_exporter": "python",
   "pygments_lexer": "ipython3",
   "version": "3.13.5"
  }
 },
 "nbformat": 4,
 "nbformat_minor": 5
}
